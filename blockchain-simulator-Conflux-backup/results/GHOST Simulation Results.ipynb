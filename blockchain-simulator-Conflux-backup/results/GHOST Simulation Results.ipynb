{
 "cells": [
  {
   "cell_type": "markdown",
   "metadata": {},
   "source": [
    "### Experimental Parameters"
   ]
  },
  {
   "cell_type": "code",
   "execution_count": 1,
   "metadata": {},
   "outputs": [],
   "source": [
    "import numpy as np\n",
    "%matplotlib inline\n",
    "\n",
    "proposal_rates = np.linspace(0.1, 0.5, 5)\n",
    "n_trials = 1"
   ]
  },
  {
   "cell_type": "markdown",
   "metadata": {},
   "source": [
    "### Setup JSON File"
   ]
  },
  {
   "cell_type": "code",
   "execution_count": 2,
   "metadata": {},
   "outputs": [],
   "source": [
    "import sys\n",
    "import json\n",
    "\n",
    "# Create experimental parameters and write to JSON file\n",
    "\n",
    "params = {'Block proposal rate parameter': 0,\n",
    " 'Block size (txs)': 50,\n",
    " 'Duration (sec)': 0,\n",
    " 'Fork choice rule': 'GHOST',\n",
    " 'Network model': 'Decker-Wattenhorf',\n",
    " 'Number of adversaries': 1,\n",
    " 'Number of nodes': 100,\n",
    " 'Probability of error in transaction confirmation': 0.01,\n",
    " 'Transaction dataset': 'poisson',\n",
    " 'Transaction scheduling rule': 'FIFO',\n",
    " 'Logging enabled': True}"
   ]
  },
  {
   "cell_type": "markdown",
   "metadata": {},
   "source": [
    "### Run experiments"
   ]
  },
  {
   "cell_type": "code",
   "execution_count": null,
   "metadata": {},
   "outputs": [
    {
     "name": "stdout",
     "output_type": "stream",
     "text": [
      "Parameters:\n",
      "{'GHOST-test': {'Block proposal rate parameter': 0.1,\n",
      "                'Block size (txs)': 50,\n",
      "                'Duration (sec)': 1000,\n",
      "                'Fork choice rule': 'GHOST',\n",
      "                'Logging enabled': True,\n",
      "                'Network model': 'Decker-Wattenhorf',\n",
      "                'Number of adversaries': 1,\n",
      "                'Number of nodes': 100,\n",
      "                'Probability of error in transaction confirmation': 0.01,\n",
      "                'Transaction dataset': 'poisson',\n",
      "                'Transaction scheduling rule': 'FIFO'},\n",
      " 'setting-name': 'GHOST-test'}\n",
      "Parameters:\n",
      "{'GHOST-test': {'Block proposal rate parameter': 0.2,\n",
      "                'Block size (txs)': 50,\n",
      "                'Duration (sec)': 1000,\n",
      "                'Fork choice rule': 'GHOST',\n",
      "                'Logging enabled': True,\n",
      "                'Network model': 'Decker-Wattenhorf',\n",
      "                'Number of adversaries': 1,\n",
      "                'Number of nodes': 100,\n",
      "                'Probability of error in transaction confirmation': 0.01,\n",
      "                'Transaction dataset': 'poisson',\n",
      "                'Transaction scheduling rule': 'FIFO'},\n",
      " 'setting-name': 'GHOST-test'}\n",
      "Parameters:\n",
      "{'GHOST-test': {'Block proposal rate parameter': 0.30000000000000004,\n",
      "                'Block size (txs)': 50,\n",
      "                'Duration (sec)': 1000,\n",
      "                'Fork choice rule': 'GHOST',\n",
      "                'Logging enabled': True,\n",
      "                'Network model': 'Decker-Wattenhorf',\n",
      "                'Number of adversaries': 1,\n",
      "                'Number of nodes': 100,\n",
      "                'Probability of error in transaction confirmation': 0.01,\n",
      "                'Transaction dataset': 'poisson',\n",
      "                'Transaction scheduling rule': 'FIFO'},\n",
      " 'setting-name': 'GHOST-test'}\n",
      "Parameters:\n",
      "{'GHOST-test': {'Block proposal rate parameter': 0.4,\n",
      "                'Block size (txs)': 50,\n",
      "                'Duration (sec)': 1000,\n",
      "                'Fork choice rule': 'GHOST',\n",
      "                'Logging enabled': True,\n",
      "                'Network model': 'Decker-Wattenhorf',\n",
      "                'Number of adversaries': 1,\n",
      "                'Number of nodes': 100,\n",
      "                'Probability of error in transaction confirmation': 0.01,\n",
      "                'Transaction dataset': 'poisson',\n",
      "                'Transaction scheduling rule': 'FIFO'},\n",
      " 'setting-name': 'GHOST-test'}\n",
      "Parameters:\n",
      "{'GHOST-test': {'Block proposal rate parameter': 0.5,\n",
      "                'Block size (txs)': 50,\n",
      "                'Duration (sec)': 1000,\n",
      "                'Fork choice rule': 'GHOST',\n",
      "                'Logging enabled': True,\n",
      "                'Network model': 'Decker-Wattenhorf',\n",
      "                'Number of adversaries': 1,\n",
      "                'Number of nodes': 100,\n",
      "                'Probability of error in transaction confirmation': 0.01,\n",
      "                'Transaction dataset': 'poisson',\n",
      "                'Transaction scheduling rule': 'FIFO'},\n",
      " 'setting-name': 'GHOST-test'}\n"
     ]
    }
   ],
   "source": [
    "import os, shutil, pprint, glob, csv\n",
    "\n",
    "pp = pprint.PrettyPrinter()\n",
    "os.system('touch GHOST.json')\n",
    "os.chdir('..')\n",
    "\n",
    "import metrics\n",
    "\n",
    "throughputs = {}\n",
    "main_chain_arrival_latencies = {}\n",
    "finalization_latencies = {}\n",
    "\n",
    "for i in range(0, len(proposal_rates)):\n",
    "    rate = proposal_rates[i]\n",
    "    params['Block proposal rate parameter'] = rate\n",
    "    params['Duration (sec)'] = 1000\n",
    "    d = {}\n",
    "    d['setting-name'] = f'GHOST-test'\n",
    "    d[f'GHOST-test'] = params\n",
    "    print('Parameters:')\n",
    "    pp.pprint(d)\n",
    "    with open('results/GHOST.json', 'w+') as outfile:\n",
    "        json.dump(d, outfile)\n",
    "    throughputs[rate] = []\n",
    "    main_chain_arrival_latencies[rate] = []\n",
    "    finalization_latencies[rate] = []\n",
    "    for trial in range(0, n_trials):\n",
    "        os.system('python main.py -f results/GHOST.json')\n",
    "        throughput = metrics.compute_throughputs()\n",
    "        avg_main_chain_arrival_latency, avg_finalization_latency = metrics.compute_latency()\n",
    "        throughputs[rate].append(throughput)\n",
    "        main_chain_arrival_latencies[rate].append(avg_main_chain_arrival_latency)\n",
    "        finalization_latencies[rate].append(avg_finalization_latency)\n",
    "\n",
    "    \n",
    "os.chdir('results/')\n",
    "os.remove('GHOST.json')\n",
    "print('Throughputs:\\n', throughputs)\n",
    "print('Main Chain Arrival Latencies:\\n', main_chain_arrival_latencies)\n",
    "print('Finalization Latencies:\\n', finalization_latencies)"
   ]
  },
  {
   "cell_type": "markdown",
   "metadata": {},
   "source": [
    "### Compute Averages\n",
    "\n",
    "Average main chain latency is the time for a transaction to be added to the global blocktree - the timestamp the transaction was created.\n",
    "\n",
    "Average finalization latency is the time for a transaction to be k blocks deep - to be added to the global blocktree."
   ]
  },
  {
   "cell_type": "code",
   "execution_count": null,
   "metadata": {},
   "outputs": [],
   "source": [
    "avg_main_chain_latencies = {}\n",
    "for rate in main_chain_arrival_latencies:\n",
    "    avg_main_chain_latencies[rate] = sum(main_chain_arrival_latencies[rate])/len(main_chain_arrival_latencies[rate])\n",
    "\n",
    "print(\"Average Main Chain Arrival Latency:\", avg_main_chain_latencies)\n",
    "avg_finalization_latencies = {}\n",
    "for rate in finalization_latencies:\n",
    "    avg_finalization_latencies[rate] = sum(finalization_latencies[rate])/len(finalization_latencies[rate])\n",
    "    \n",
    "print(\"Average Finalization Latency:\", avg_finalization_latencies)"
   ]
  },
  {
   "cell_type": "markdown",
   "metadata": {},
   "source": [
    "### Extract Finalization Depth and Delta for Blocks"
   ]
  },
  {
   "cell_type": "code",
   "execution_count": null,
   "metadata": {},
   "outputs": [],
   "source": [
    "import csv\n",
    "with open('../logs/stats.csv', newline='') as csvfile:\n",
    "    reader = csv.reader(csvfile, delimiter=',')\n",
    "    for row in reader:\n",
    "        if row[0]=='Finalization depth':\n",
    "            k = int(row[1])\n",
    "        elif row[0]=='Average network latency for blocks (sec)':\n",
    "            delta = float(row[1])"
   ]
  },
  {
   "cell_type": "markdown",
   "metadata": {},
   "source": [
    "### Plotting the results"
   ]
  },
  {
   "cell_type": "code",
   "execution_count": null,
   "metadata": {},
   "outputs": [],
   "source": [
    "import matplotlib.pylab as plt\n",
    "x = avg_main_chain_latencies.keys()\n",
    "y1 = avg_main_chain_latencies.values()\n",
    "expected_y1 = (delta+1.0/proposal_rates)\n",
    "y2 = avg_finalization_latencies.values()\n",
    "expected_y2 = k*(delta+1.0/proposal_rates)\n",
    "\n",
    "plt.xlabel('Block Proposal Rate (blocks/sec)')\n",
    "plt.ylabel('Main Chain Arrival Latency (sec)')\n",
    "plt.title(f'Main Chain Arrival Latency vs. Proposal Rate (k={k}, delta={delta})')\n",
    "plt.grid(True)\n",
    "\n",
    "plt.plot(x, y1, label='observed rate')\n",
    "plt.plot(x, expected_y1, '--', label='expected rate')\n",
    "plt.legend()\n",
    "plt.show()"
   ]
  },
  {
   "cell_type": "code",
   "execution_count": null,
   "metadata": {},
   "outputs": [],
   "source": [
    "plt.xlabel('Block Proposal Rate (blocks/sec)')\n",
    "plt.ylabel('Finalization Latency (sec)')\n",
    "plt.title(f'Finalization Latency vs. Proposal Rate (k={k}, delta={delta})')\n",
    "plt.grid(True)\n",
    "\n",
    "plt.plot(x, y2, label='observed rate')\n",
    "plt.plot(x, expected_y2, '--', label='expected rate')\n",
    "plt.legend()\n",
    "plt.show()"
   ]
  },
  {
   "cell_type": "code",
   "execution_count": null,
   "metadata": {},
   "outputs": [],
   "source": []
  }
 ],
 "metadata": {
  "kernelspec": {
   "display_name": "Python 3",
   "language": "python",
   "name": "python3"
  },
  "language_info": {
   "codemirror_mode": {
    "name": "ipython",
    "version": 3
   },
   "file_extension": ".py",
   "mimetype": "text/x-python",
   "name": "python",
   "nbconvert_exporter": "python",
   "pygments_lexer": "ipython3",
   "version": "3.9.0"
  }
 },
 "nbformat": 4,
 "nbformat_minor": 2
}
