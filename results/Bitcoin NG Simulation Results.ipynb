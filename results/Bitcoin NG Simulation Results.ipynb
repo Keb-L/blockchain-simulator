{
 "cells": [
  {
   "cell_type": "markdown",
   "metadata": {},
   "source": [
    "### Experimental Parameters"
   ]
  },
  {
   "cell_type": "code",
   "execution_count": 1,
   "metadata": {},
   "outputs": [],
   "source": [
    "import numpy as np\n",
    "import pickle as pkl\n",
    "%matplotlib inline\n",
    "\n",
    "proposal_rates = np.array([1/300, 1/120, 1/60, 1/30, 1/10, 1/5, 1/2])\n",
    "n_trials = 3"
   ]
  },
  {
   "cell_type": "markdown",
   "metadata": {},
   "source": [
    "### Setup JSON File"
   ]
  },
  {
   "cell_type": "code",
   "execution_count": 2,
   "metadata": {},
   "outputs": [],
   "source": [
    "import sys\n",
    "import json\n",
    "\n",
    "# Create experimental parameters and write to JSON file\n",
    "max_block_size = 50\n",
    "TX_rate = 5\n",
    "\n",
    "\n",
    "params = {\n",
    "    'Block tree proposal rate parameter': 0,\n",
    "    'Block micro proposal rate parameter': 0, # 1 seconds\n",
    "    'Block size (txs)': max_block_size,\n",
    "    'Transaction rate parameter': TX_rate, # 1 second\n",
    "    'Duration (sec)': 0,\n",
    "    'Fork choice rule': 'BitcoinNG',\n",
    "    'Network model': 'Decker-Wattenhorf',\n",
    "    'Number of adversaries': 1,\n",
    "    'Number of nodes': 100,\n",
    "    'Probability of error in transaction confirmation': 0.01,\n",
    "    'Transaction dataset': 'poisson',\n",
    "    'Transaction scheduling rule': 'FIFO',\n",
    "    'Logging enabled': True\n",
    " }"
   ]
  },
  {
   "cell_type": "markdown",
   "metadata": {},
   "source": [
    "### Run experiments"
   ]
  },
  {
   "cell_type": "code",
   "execution_count": null,
   "metadata": {},
   "outputs": [
    {
     "name": "stdout",
     "output_type": "stream",
     "text": [
      "/mnt/c/Users/Kelvin/Desktop/course_repo/Blockchain/blockchain-simulator\n",
      "Parameters:\n",
      "{'bitcoin-ng-test': {'Block micro proposal rate parameter': 30.0,\n",
      "                     'Block size (txs)': 50,\n",
      "                     'Block tree proposal rate parameter': 0.0033333333333333335,\n",
      "                     'Duration (sec)': 14999.999999999998,\n",
      "                     'Fork choice rule': 'BitcoinNG',\n",
      "                     'Logging enabled': True,\n",
      "                     'Network model': 'Decker-Wattenhorf',\n",
      "                     'Number of adversaries': 1,\n",
      "                     'Number of nodes': 100,\n",
      "                     'Probability of error in transaction confirmation': 0.01,\n",
      "                     'Transaction dataset': 'poisson',\n",
      "                     'Transaction rate parameter': 5,\n",
      "                     'Transaction scheduling rule': 'FIFO'},\n",
      " 'setting-name': 'bitcoin-ng-test'}\n"
     ]
    },
    {
     "name": "stderr",
     "output_type": "stream",
     "text": [
      " 54%|█████▎    | 40502/75604 [05:38<07:53, 74.15it/s] "
     ]
    }
   ],
   "source": [
    "import os, shutil, pprint, glob, csv\n",
    "\n",
    "os.chdir('/mnt/c/Users/Kelvin/Desktop/course_repo/Blockchain/blockchain-simulator/')\n",
    "\n",
    "pp = pprint.PrettyPrinter()\n",
    "os.system('touch results/bitcoin_ng.json')\n",
    "\n",
    "import metrics\n",
    "import uuid\n",
    "from main import main\n",
    "\n",
    "throughputs = {}\n",
    "throughputs_unique = {}\n",
    "main_chain_arrival_latencies = {}\n",
    "finalization_latencies = {}\n",
    "\n",
    "print(os.getcwd())\n",
    "    \n",
    "for i in range(0, len(proposal_rates)):\n",
    "    rate = proposal_rates[i]\n",
    "    params['Block tree proposal rate parameter'] = rate\n",
    "    params['Block micro proposal rate parameter'] = 1/(10*rate)\n",
    "    params['Duration (sec)'] = 50/rate\n",
    "    d = {}\n",
    "    d['setting-name'] = f'bitcoin-ng-test'\n",
    "    d[f'bitcoin-ng-test'] = params\n",
    "    print('Parameters:')\n",
    "    pp.pprint(d)\n",
    "    with open('results/bitcoin_ng.json', 'w+') as outfile:\n",
    "        json.dump(d, outfile)\n",
    "    throughputs[rate] = []\n",
    "    throughputs_unique[rate] = []\n",
    "    main_chain_arrival_latencies[rate] = []\n",
    "    finalization_latencies[rate] = []\n",
    "    for trial in range(0, n_trials):\n",
    "        main('results/bitcoin_ng.json')\n",
    "#         os.system('python3 main.py -f results/bitcoin_ng.json')\n",
    "        throughput, throughput_unique = metrics.compute_throughputs(filename='results/bitcoin_ng.json')\n",
    "        avg_main_chain_arrival_latency, avg_finalization_latency = metrics.compute_latency()\n",
    "        \n",
    "        \n",
    "        shutil.copytree('./logs', './logs_{0}'.format(uuid.uuid4()) )\n",
    "        \n",
    "        throughputs[rate].append(throughput)\n",
    "        throughputs_unique[rate].append(throughput_unique)\n",
    "        main_chain_arrival_latencies[rate].append(avg_main_chain_arrival_latency)\n",
    "        finalization_latencies[rate].append(avg_finalization_latency)\n",
    "\n",
    "    \n",
    "os.remove('results/bitcoin_ng.json')\n",
    "print('Throughputs:\\n', throughputs)\n",
    "print('Unique Throughputs:\\n', throughput_unique)\n",
    "print('Main Chain Arrival Latencies:\\n', main_chain_arrival_latencies)\n",
    "print('Finalization Latencies:\\n', finalization_latencies)"
   ]
  },
  {
   "cell_type": "markdown",
   "metadata": {},
   "source": [
    "### Compute Averages\n",
    "\n",
    "Average main chain latency is the time for a transaction to be added to the global blocktree - the timestamp the transaction was created.\n",
    "\n",
    "Average finalization latency is the time for a transaction to be k blocks deep - to be added to the global blocktree."
   ]
  },
  {
   "cell_type": "code",
   "execution_count": null,
   "metadata": {},
   "outputs": [],
   "source": [
    "avg_main_chain_latencies = {}\n",
    "for rate in main_chain_arrival_latencies:\n",
    "    avg_main_chain_latencies[rate] = sum(main_chain_arrival_latencies[rate])/len(main_chain_arrival_latencies[rate])\n",
    "\n",
    "print(\"Average Main Chain Arrival Latency:\", avg_main_chain_latencies)\n",
    "avg_finalization_latencies = {}\n",
    "for rate in finalization_latencies:\n",
    "    avg_finalization_latencies[rate] = sum(finalization_latencies[rate])/len(finalization_latencies[rate])\n",
    "    \n",
    "print(\"Average Finalization Latency:\", avg_finalization_latencies)\n",
    "\n",
    "avg_throughput = {}\n",
    "for rate in throughputs:\n",
    "    avg_throughput[rate] = sum(throughputs[rate])/len(throughputs[rate])\n",
    "    \n",
    "print(\"Average Throughput Latency:\", avg_throughput)\n",
    "\n",
    "avg_unique_throughput = {}\n",
    "for rate in throughputs_unique:\n",
    "    avg_unique_throughput[rate] = sum(throughputs_unique[rate])/len(throughputs_unique[rate])\n",
    "    \n",
    "print(\"Average Unique Throughput Latency:\", avg_unique_throughput)"
   ]
  },
  {
   "cell_type": "markdown",
   "metadata": {},
   "source": [
    "### Extract Finalization Depth and Delta for Blocks"
   ]
  },
  {
   "cell_type": "code",
   "execution_count": null,
   "metadata": {},
   "outputs": [],
   "source": [
    "import csv\n",
    "with open('logs/stats.csv', newline='') as csvfile:\n",
    "    reader = csv.reader(csvfile, delimiter=',')\n",
    "    for row in reader:\n",
    "        if row[0]=='Finalization depth':\n",
    "            k = int(row[1])\n",
    "        elif row[0]=='Average network latency for blocks (sec)':\n",
    "            delta = float(row[1])\n",
    "print(delta)\n",
    "print(k)"
   ]
  },
  {
   "cell_type": "code",
   "execution_count": null,
   "metadata": {},
   "outputs": [],
   "source": [
    "bitcoin_ng_data = {}\n",
    "bitcoin_ng_data['throughputs'] = throughputs\n",
    "bitcoin_ng_data['throughputs_unique'] = throughputs_unique\n",
    "bitcoin_ng_data['main_chain_arrival_latencies'] = main_chain_arrival_latencies\n",
    "bitcoin_ng_data['finalization_latencies'] = finalization_latencies\n",
    "bitcoin_ng_data['k'] = k\n",
    "bitcoin_ng_data['delta'] = delta\n",
    "\n",
    "pkl.dump(bitcoin_ng_data, open('bitcoin-ng-data.pkl', 'wb'))"
   ]
  },
  {
   "cell_type": "code",
   "execution_count": null,
   "metadata": {},
   "outputs": [],
   "source": [
    "# bitcoin_ng_data = pkl.load( open( \"bitcoin-ng-data-final.pkl\", \"rb\" ) )\n",
    "# throughputs = bitcoin_ng_data['throughputs']\n",
    "# throughputs_unique = bitcoin_ng_data['throughputs_unique']\n",
    "# main_chain_arrival_latencies = bitcoin_ng_data['main_chain_arrival_latencies']\n",
    "# finalization_latencies = bitcoin_ng_data['finalization_latencies']\n",
    "# k = bitcoin_ng_data['k']\n",
    "# delta = bitcoin_ng_data['delta']\n",
    "# max_block_size = 50"
   ]
  },
  {
   "cell_type": "markdown",
   "metadata": {},
   "source": [
    "### Plotting the results"
   ]
  },
  {
   "cell_type": "code",
   "execution_count": null,
   "metadata": {},
   "outputs": [],
   "source": [
    "import matplotlib.pylab as plt\n",
    "x = avg_main_chain_latencies.keys()\n",
    "y1 = avg_main_chain_latencies.values()\n",
    "expected_y1 = (delta+1.0/proposal_rates)\n",
    "y2 = avg_finalization_latencies.values()\n",
    "expected_y2 = k*(delta+1.0/proposal_rates)\n",
    "\n",
    "y3 = avg_unique_throughput.values()\n",
    "T = list(map(lambda x: min(x, 10*max_block_size),  TX_rate/proposal_rates)) # transaction per block, 1 Tx per second / x blocks / sec = tx / block\n",
    "expected_y3 = proposal_rates*T/(1+proposal_rates*delta)\n",
    "\n",
    "plt.xlabel('Block Proposal Rate (blocks/sec)')\n",
    "plt.ylabel('Main Chain Arrival Latency (sec)')\n",
    "plt.title(f'Bitcoin-NG\\nMain Chain Arrival Latency vs. Proposal Rate (k={k}, delta={delta})')\n",
    "plt.grid(True)\n",
    "\n",
    "plt.plot(x, y1, 'o-', label='observed rate')\n",
    "plt.plot(x, expected_y1, 'o--', label='expected rate')\n",
    "plt.legend()\n",
    "plt.show()"
   ]
  },
  {
   "cell_type": "code",
   "execution_count": null,
   "metadata": {},
   "outputs": [],
   "source": [
    "plt.xlabel('Block Proposal Rate (blocks/sec)')\n",
    "plt.ylabel('Finalization Latency (sec)')\n",
    "plt.title(f'Bitcoin-NG\\nFinalization Latency vs. Proposal Rate (k={k}, delta={delta})')\n",
    "plt.grid(True)\n",
    "\n",
    "plt.plot(x, y2, 'o-', label='observed rate')\n",
    "plt.plot(x, expected_y2, 'o--', label='expected rate')\n",
    "plt.legend()\n",
    "plt.show()"
   ]
  },
  {
   "cell_type": "code",
   "execution_count": null,
   "metadata": {},
   "outputs": [],
   "source": [
    "plt.xlabel('Block Proposal Rate (blocks/sec)')\n",
    "plt.ylabel('TX Throughput (Transaction/sec)')\n",
    "plt.title(f'Bitcoin-NG\\nThroughput vs. Proposal Rate (k={k}, delta={delta})')\n",
    "plt.grid(True)\n",
    "\n",
    "\n",
    "plt.plot(x, y3, 'o-', label='observed rate')\n",
    "plt.plot(x, expected_y3, 'o--', label='expected rate')\n",
    "plt.legend()\n",
    "plt.ylim([0, TX_rate])\n",
    "plt.show()\n"
   ]
  },
  {
   "cell_type": "code",
   "execution_count": null,
   "metadata": {},
   "outputs": [],
   "source": []
  },
  {
   "cell_type": "code",
   "execution_count": null,
   "metadata": {},
   "outputs": [],
   "source": []
  },
  {
   "cell_type": "code",
   "execution_count": null,
   "metadata": {},
   "outputs": [],
   "source": []
  }
 ],
 "metadata": {
  "kernelspec": {
   "display_name": "Python 3",
   "language": "python",
   "name": "python3"
  },
  "language_info": {
   "codemirror_mode": {
    "name": "ipython",
    "version": 3
   },
   "file_extension": ".py",
   "mimetype": "text/x-python",
   "name": "python",
   "nbconvert_exporter": "python",
   "pygments_lexer": "ipython3",
   "version": "3.6.9"
  }
 },
 "nbformat": 4,
 "nbformat_minor": 2
}
