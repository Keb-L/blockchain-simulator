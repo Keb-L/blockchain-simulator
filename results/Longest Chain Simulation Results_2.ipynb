{
 "cells": [
  {
   "cell_type": "markdown",
   "metadata": {},
   "source": [
    "### Experimental Parameters"
   ]
  },
  {
   "cell_type": "code",
   "execution_count": 1,
   "metadata": {},
   "outputs": [],
   "source": [
    "import numpy as np\n",
    "import pickle as pkl\n",
    "%matplotlib inline\n",
    "\n",
    "proposal_rates = np.array([1/300, 1/120, 1/60, 1/30, 1/10, 1/5, 1/2])\n",
    "n_trials = 3"
   ]
  },
  {
   "cell_type": "markdown",
   "metadata": {},
   "source": [
    "### Setup JSON File"
   ]
  },
  {
   "cell_type": "code",
   "execution_count": 12,
   "metadata": {},
   "outputs": [],
   "source": [
    "import sys\n",
    "import json\n",
    "\n",
    "# Create experimental parameters and write to JSON file\n",
    "max_block_size = 50\n",
    "TX_rate = 5\n",
    "\n",
    "params = {'Block proposal rate parameter': 0,\n",
    " 'Block size (txs)': max_block_size,\n",
    " 'Duration (sec)': 0,\n",
    " 'Transaction rate parameter': TX_rate, # 1 second\n",
    " 'Fork choice rule': 'longest-chain',\n",
    " 'Network model': 'Decker-Wattenhorf',\n",
    " 'Number of adversaries': 1,\n",
    " 'Number of nodes': 100,\n",
    " 'Probability of error in transaction confirmation': 0.01,\n",
    " 'Transaction dataset': 'poisson',\n",
    " 'Transaction scheduling rule': 'FIFO',\n",
    " 'Logging enabled': True\n",
    "         }"
   ]
  },
  {
   "cell_type": "markdown",
   "metadata": {},
   "source": [
    "### Run experiments"
   ]
  },
  {
   "cell_type": "code",
   "execution_count": 3,
   "metadata": {},
   "outputs": [
    {
     "name": "stdout",
     "output_type": "stream",
     "text": [
      "/mnt/c/Users/Kelvin/Desktop/course_repo/Blockchain/blockchain-simulator\n",
      "Parameters:\n",
      "{'longest-chain-test': {'Block proposal rate parameter': 0.0033333333333333335,\n",
      "                        'Block size (txs)': 50,\n",
      "                        'Duration (sec)': 14999.999999999998,\n",
      "                        'Fork choice rule': 'longest-chain',\n",
      "                        'Logging enabled': True,\n",
      "                        'Network model': 'Decker-Wattenhorf',\n",
      "                        'Number of adversaries': 1,\n",
      "                        'Number of nodes': 100,\n",
      "                        'Probability of error in transaction confirmation': 0.01,\n",
      "                        'Transaction dataset': 'poisson',\n",
      "                        'Transaction rate parameter': 5,\n",
      "                        'Transaction scheduling rule': 'FIFO'},\n",
      " 'setting-name': 'longest-chain-test'}\n"
     ]
    },
    {
     "name": "stderr",
     "output_type": "stream",
     "text": [
      "100%|██████████| 74712/74712 [15:02<00:00, 82.78it/s] \n"
     ]
    },
    {
     "name": "stdout",
     "output_type": "stream",
     "text": [
      "Complete! Logging results\n"
     ]
    },
    {
     "name": "stderr",
     "output_type": "stream",
     "text": [
      "100%|██████████| 75304/75304 [16:01<00:00, 78.32it/s] \n"
     ]
    },
    {
     "name": "stdout",
     "output_type": "stream",
     "text": [
      "Complete! Logging results\n"
     ]
    },
    {
     "name": "stderr",
     "output_type": "stream",
     "text": [
      "100%|██████████| 75364/75364 [15:27<00:00, 81.26it/s] \n"
     ]
    },
    {
     "name": "stdout",
     "output_type": "stream",
     "text": [
      "Complete! Logging results\n",
      "Parameters:\n",
      "{'longest-chain-test': {'Block proposal rate parameter': 0.008333333333333333,\n",
      "                        'Block size (txs)': 50,\n",
      "                        'Duration (sec)': 6000.0,\n",
      "                        'Fork choice rule': 'longest-chain',\n",
      "                        'Logging enabled': True,\n",
      "                        'Network model': 'Decker-Wattenhorf',\n",
      "                        'Number of adversaries': 1,\n",
      "                        'Number of nodes': 100,\n",
      "                        'Probability of error in transaction confirmation': 0.01,\n",
      "                        'Transaction dataset': 'poisson',\n",
      "                        'Transaction rate parameter': 5,\n",
      "                        'Transaction scheduling rule': 'FIFO'},\n",
      " 'setting-name': 'longest-chain-test'}\n"
     ]
    },
    {
     "name": "stderr",
     "output_type": "stream",
     "text": [
      "100%|██████████| 30593/30593 [02:35<00:00, 196.95it/s]\n"
     ]
    },
    {
     "name": "stdout",
     "output_type": "stream",
     "text": [
      "Complete! Logging results\n"
     ]
    },
    {
     "name": "stderr",
     "output_type": "stream",
     "text": [
      "100%|██████████| 30126/30126 [02:29<00:00, 201.14it/s]\n"
     ]
    },
    {
     "name": "stdout",
     "output_type": "stream",
     "text": [
      "Complete! Logging results\n"
     ]
    },
    {
     "name": "stderr",
     "output_type": "stream",
     "text": [
      "100%|██████████| 30000/30000 [02:27<00:00, 202.85it/s]\n"
     ]
    },
    {
     "name": "stdout",
     "output_type": "stream",
     "text": [
      "Complete! Logging results\n",
      "Parameters:\n",
      "{'longest-chain-test': {'Block proposal rate parameter': 0.016666666666666666,\n",
      "                        'Block size (txs)': 50,\n",
      "                        'Duration (sec)': 3000.0,\n",
      "                        'Fork choice rule': 'longest-chain',\n",
      "                        'Logging enabled': True,\n",
      "                        'Network model': 'Decker-Wattenhorf',\n",
      "                        'Number of adversaries': 1,\n",
      "                        'Number of nodes': 100,\n",
      "                        'Probability of error in transaction confirmation': 0.01,\n",
      "                        'Transaction dataset': 'poisson',\n",
      "                        'Transaction rate parameter': 5,\n",
      "                        'Transaction scheduling rule': 'FIFO'},\n",
      " 'setting-name': 'longest-chain-test'}\n"
     ]
    },
    {
     "name": "stderr",
     "output_type": "stream",
     "text": [
      "100%|██████████| 14909/14909 [00:44<00:00, 338.29it/s]\n"
     ]
    },
    {
     "name": "stdout",
     "output_type": "stream",
     "text": [
      "Complete! Logging results\n"
     ]
    },
    {
     "name": "stderr",
     "output_type": "stream",
     "text": [
      "100%|██████████| 14997/14997 [00:43<00:00, 345.39it/s]\n"
     ]
    },
    {
     "name": "stdout",
     "output_type": "stream",
     "text": [
      "Complete! Logging results\n"
     ]
    },
    {
     "name": "stderr",
     "output_type": "stream",
     "text": [
      "100%|██████████| 14943/14943 [00:44<00:00, 338.59it/s]\n"
     ]
    },
    {
     "name": "stdout",
     "output_type": "stream",
     "text": [
      "Complete! Logging results\n"
     ]
    },
    {
     "name": "stderr",
     "output_type": "stream",
     "text": [
      "\r",
      "  0%|          | 0/7684 [00:00<?, ?it/s]"
     ]
    },
    {
     "name": "stdout",
     "output_type": "stream",
     "text": [
      "Parameters:\n",
      "{'longest-chain-test': {'Block proposal rate parameter': 0.03333333333333333,\n",
      "                        'Block size (txs)': 50,\n",
      "                        'Duration (sec)': 1500.0,\n",
      "                        'Fork choice rule': 'longest-chain',\n",
      "                        'Logging enabled': True,\n",
      "                        'Network model': 'Decker-Wattenhorf',\n",
      "                        'Number of adversaries': 1,\n",
      "                        'Number of nodes': 100,\n",
      "                        'Probability of error in transaction confirmation': 0.01,\n",
      "                        'Transaction dataset': 'poisson',\n",
      "                        'Transaction rate parameter': 5,\n",
      "                        'Transaction scheduling rule': 'FIFO'},\n",
      " 'setting-name': 'longest-chain-test'}\n"
     ]
    },
    {
     "name": "stderr",
     "output_type": "stream",
     "text": [
      "100%|██████████| 7684/7684 [00:16<00:00, 474.92it/s] \n"
     ]
    },
    {
     "name": "stdout",
     "output_type": "stream",
     "text": [
      "Complete! Logging results\n"
     ]
    },
    {
     "name": "stderr",
     "output_type": "stream",
     "text": [
      "100%|██████████| 7526/7526 [00:15<00:00, 492.61it/s]\n"
     ]
    },
    {
     "name": "stdout",
     "output_type": "stream",
     "text": [
      "Complete! Logging results\n"
     ]
    },
    {
     "name": "stderr",
     "output_type": "stream",
     "text": [
      "100%|██████████| 7617/7617 [00:16<00:00, 469.96it/s]\n"
     ]
    },
    {
     "name": "stdout",
     "output_type": "stream",
     "text": [
      "Complete! Logging results\n"
     ]
    },
    {
     "name": "stderr",
     "output_type": "stream",
     "text": [
      "  7%|▋         | 180/2466 [00:00<00:01, 1773.23it/s]"
     ]
    },
    {
     "name": "stdout",
     "output_type": "stream",
     "text": [
      "Parameters:\n",
      "{'longest-chain-test': {'Block proposal rate parameter': 0.1,\n",
      "                        'Block size (txs)': 50,\n",
      "                        'Duration (sec)': 500.0,\n",
      "                        'Fork choice rule': 'longest-chain',\n",
      "                        'Logging enabled': True,\n",
      "                        'Network model': 'Decker-Wattenhorf',\n",
      "                        'Number of adversaries': 1,\n",
      "                        'Number of nodes': 100,\n",
      "                        'Probability of error in transaction confirmation': 0.01,\n",
      "                        'Transaction dataset': 'poisson',\n",
      "                        'Transaction rate parameter': 5,\n",
      "                        'Transaction scheduling rule': 'FIFO'},\n",
      " 'setting-name': 'longest-chain-test'}\n"
     ]
    },
    {
     "name": "stderr",
     "output_type": "stream",
     "text": [
      "100%|██████████| 2466/2466 [00:04<00:00, 555.46it/s]\n"
     ]
    },
    {
     "name": "stdout",
     "output_type": "stream",
     "text": [
      "Complete! Logging results\n"
     ]
    },
    {
     "name": "stderr",
     "output_type": "stream",
     "text": [
      "100%|██████████| 2501/2501 [00:03<00:00, 743.77it/s] \n"
     ]
    },
    {
     "name": "stdout",
     "output_type": "stream",
     "text": [
      "Complete! Logging results\n"
     ]
    },
    {
     "name": "stderr",
     "output_type": "stream",
     "text": [
      "100%|██████████| 2517/2517 [00:03<00:00, 644.81it/s]\n"
     ]
    },
    {
     "name": "stdout",
     "output_type": "stream",
     "text": [
      "Complete! Logging results\n",
      "Parameters:\n",
      "{'longest-chain-test': {'Block proposal rate parameter': 0.2,\n",
      "                        'Block size (txs)': 50,\n",
      "                        'Duration (sec)': 250.0,\n",
      "                        'Fork choice rule': 'longest-chain',\n",
      "                        'Logging enabled': True,\n",
      "                        'Network model': 'Decker-Wattenhorf',\n",
      "                        'Number of adversaries': 1,\n",
      "                        'Number of nodes': 100,\n",
      "                        'Probability of error in transaction confirmation': 0.01,\n",
      "                        'Transaction dataset': 'poisson',\n",
      "                        'Transaction rate parameter': 5,\n",
      "                        'Transaction scheduling rule': 'FIFO'},\n",
      " 'setting-name': 'longest-chain-test'}\n"
     ]
    },
    {
     "name": "stderr",
     "output_type": "stream",
     "text": [
      "100%|██████████| 1295/1295 [00:01<00:00, 795.45it/s]\n"
     ]
    },
    {
     "name": "stdout",
     "output_type": "stream",
     "text": [
      "Complete! Logging results\n"
     ]
    },
    {
     "name": "stderr",
     "output_type": "stream",
     "text": [
      "100%|██████████| 1314/1314 [00:01<00:00, 793.68it/s]\n"
     ]
    },
    {
     "name": "stdout",
     "output_type": "stream",
     "text": [
      "Complete! Logging results\n"
     ]
    },
    {
     "name": "stderr",
     "output_type": "stream",
     "text": [
      "100%|██████████| 1340/1340 [00:01<00:00, 803.14it/s]\n"
     ]
    },
    {
     "name": "stdout",
     "output_type": "stream",
     "text": [
      "Complete! Logging results\n",
      "Parameters:\n",
      "{'longest-chain-test': {'Block proposal rate parameter': 0.5,\n",
      "                        'Block size (txs)': 50,\n",
      "                        'Duration (sec)': 100.0,\n",
      "                        'Fork choice rule': 'longest-chain',\n",
      "                        'Logging enabled': True,\n",
      "                        'Network model': 'Decker-Wattenhorf',\n",
      "                        'Number of adversaries': 1,\n",
      "                        'Number of nodes': 100,\n",
      "                        'Probability of error in transaction confirmation': 0.01,\n",
      "                        'Transaction dataset': 'poisson',\n",
      "                        'Transaction rate parameter': 5,\n",
      "                        'Transaction scheduling rule': 'FIFO'},\n",
      " 'setting-name': 'longest-chain-test'}\n"
     ]
    },
    {
     "name": "stderr",
     "output_type": "stream",
     "text": [
      "100%|██████████| 568/568 [00:00<00:00, 909.14it/s] \n",
      "  0%|          | 0/545 [00:00<?, ?it/s]"
     ]
    },
    {
     "name": "stdout",
     "output_type": "stream",
     "text": [
      "Complete! Logging results\n"
     ]
    },
    {
     "name": "stderr",
     "output_type": "stream",
     "text": [
      "100%|██████████| 545/545 [00:00<00:00, 959.92it/s] \n",
      "  0%|          | 0/570 [00:00<?, ?it/s]"
     ]
    },
    {
     "name": "stdout",
     "output_type": "stream",
     "text": [
      "Complete! Logging results\n"
     ]
    },
    {
     "name": "stderr",
     "output_type": "stream",
     "text": [
      "100%|██████████| 570/570 [00:00<00:00, 1051.38it/s]\n"
     ]
    },
    {
     "name": "stdout",
     "output_type": "stream",
     "text": [
      "Complete! Logging results\n",
      "Throughputs:\n",
      " {0.0033333333333333335: [2.9274000000000004, 2.9274000000000004, 4.685200000000001], 0.008333333333333333: [8.041, 10.8375, 11.713], 0.016666666666666666: [13.26, 13.169, 30.09], 0.03333333333333333: [23.902, 35.926, 36.416666666666664], 0.1: [97.108, 56.034, 63.19], 0.2: [73.004, 79.608, 85.276], 0.5: [62.7, 60.32, 35.39]}\n",
      "Unique Throughputs:\n",
      " 4.1\n",
      "Main Chain Arrival Latencies:\n",
      " {0.0033333333333333335: [6381.214644116133, 6854.279421448953, 6630.73808312925], 0.008333333333333333: [2069.4148063063276, 2188.3591907479627, 2318.360647644361], 0.016666666666666666: [1023.2241846981781, 1110.7663874995603, 978.3560807355376], 0.03333333333333333: [406.08944341666484, 347.47263003938093, 436.4384899621516], 0.1: [34.77856325869933, 74.45819323432049, 58.79593599634249], 0.2: [8.98065875854089, 10.006910652577332, 6.202778250520209], 0.5: [2.6956665854770776, 3.133414838554133, 4.6779889158889665]}\n",
      "Finalization Latencies:\n",
      " {0.0033333333333333335: [698.8382870493776, 663.5375303774565, 556.2814158697703], 0.008333333333333333: [262.3079335167635, 229.0567950562975, 220.06898957572574], 0.016666666666666666: [141.598074176112, 144.35910205808435, 98.14945306479125], 0.03333333333333333: [74.91749710860518, 60.93163644642797, 63.59828750041265], 0.1: [19.68429802572128, 28.374791927182486, 27.00715727699165], 0.2: [14.056212422293527, 11.814189497451524, 12.368490590942791], 0.5: [6.951795271436632, 7.061900936141769, 8.522074763689263]}\n"
     ]
    }
   ],
   "source": [
    "import os, shutil, pprint, glob, csv\n",
    "\n",
    "os.chdir('/mnt/c/Users/Kelvin/Desktop/course_repo/Blockchain/blockchain-simulator/')\n",
    "\n",
    "pp = pprint.PrettyPrinter()\n",
    "os.system('touch results/longest_chain.json')\n",
    "\n",
    "import metrics\n",
    "import uuid\n",
    "from main import main\n",
    "\n",
    "throughputs = {}\n",
    "throughputs_unique = {}\n",
    "main_chain_arrival_latencies = {}\n",
    "finalization_latencies = {}\n",
    "\n",
    "print(os.getcwd())\n",
    "    \n",
    "for i in range(0, len(proposal_rates)):\n",
    "    rate = proposal_rates[i]\n",
    "    params['Block proposal rate parameter'] = rate\n",
    "    params['Duration (sec)'] = 50/rate\n",
    "    d = {}\n",
    "    d['setting-name'] = f'longest-chain-test'\n",
    "    d[f'longest-chain-test'] = params\n",
    "    print('Parameters:')\n",
    "    pp.pprint(d)\n",
    "    with open('results/longest_chain.json', 'w+') as outfile:\n",
    "        json.dump(d, outfile)\n",
    "    throughputs[rate] = []\n",
    "    throughputs_unique[rate] = []\n",
    "    main_chain_arrival_latencies[rate] = []\n",
    "    finalization_latencies[rate] = []\n",
    "    for trial in range(0, n_trials):\n",
    "        main('results/longest_chain.json')\n",
    "#         os.system('python3 main.py -f results/bitcoin_ng.json')\n",
    "        throughput, throughput_unique = metrics.compute_throughputs(filename='results/longest_chain.json')\n",
    "        avg_main_chain_arrival_latency, avg_finalization_latency = metrics.compute_latency()\n",
    "        \n",
    "        \n",
    "        shutil.copytree('./logs', './logs_{0}'.format(uuid.uuid4()) )\n",
    "        \n",
    "        throughputs[rate].append(throughput)\n",
    "        throughputs_unique[rate].append(throughput_unique)\n",
    "        main_chain_arrival_latencies[rate].append(avg_main_chain_arrival_latency)\n",
    "        finalization_latencies[rate].append(avg_finalization_latency)\n",
    "\n",
    "    \n",
    "os.remove('results/longest_chain.json')\n",
    "print('Throughputs:\\n', throughputs)\n",
    "print('Unique Throughputs:\\n', throughput_unique)\n",
    "print('Main Chain Arrival Latencies:\\n', main_chain_arrival_latencies)\n",
    "print('Finalization Latencies:\\n', finalization_latencies)"
   ]
  },
  {
   "cell_type": "markdown",
   "metadata": {},
   "source": [
    "### Compute Averages\n",
    "\n",
    "Average main chain latency is the time for a transaction to be added to the global blocktree - the timestamp the transaction was created.\n",
    "\n",
    "Average finalization latency is the time for a transaction to be k blocks deep - to be added to the global blocktree."
   ]
  },
  {
   "cell_type": "code",
   "execution_count": 4,
   "metadata": {},
   "outputs": [
    {
     "name": "stdout",
     "output_type": "stream",
     "text": [
      "Average Main Chain Arrival Latency: {0.0033333333333333335: 6622.077382898112, 0.008333333333333333: 2192.044881566217, 0.016666666666666666: 1037.448884311092, 0.03333333333333333: 396.66685447273244, 0.1: 56.010897496454106, 0.2: 8.396782553879477, 0.5: 3.502356779973392}\n",
      "Average Finalization Latency: {0.0033333333333333335: 639.5524110988681, 0.008333333333333333: 237.14457271626225, 0.016666666666666666: 128.03554309966253, 0.03333333333333333: 66.4824736851486, 0.1: 25.022082409965137, 0.2: 12.746297503562614, 0.5: 7.5119236570892225}\n",
      "Average Throughput Latency: {0.0033333333333333335: 3.513333333333334, 0.008333333333333333: 10.197166666666668, 0.016666666666666666: 18.83966666666667, 0.03333333333333333: 32.08155555555555, 0.1: 72.11066666666666, 0.2: 79.296, 0.5: 52.80333333333334}\n",
      "Average Unique Throughput Latency: {0.0033333333333333335: 0.15186666666666668, 0.008333333333333333: 0.41083333333333333, 0.016666666666666666: 0.775111111111111, 0.03333333333333333: 1.4533333333333331, 0.1: 3.6553333333333335, 0.2: 4.737333333333333, 0.5: 4.296666666666666}\n"
     ]
    }
   ],
   "source": [
    "avg_main_chain_latencies = {}\n",
    "for rate in main_chain_arrival_latencies:\n",
    "    avg_main_chain_latencies[rate] = sum(main_chain_arrival_latencies[rate])/len(main_chain_arrival_latencies[rate])\n",
    "\n",
    "print(\"Average Main Chain Arrival Latency:\", avg_main_chain_latencies)\n",
    "avg_finalization_latencies = {}\n",
    "for rate in finalization_latencies:\n",
    "    avg_finalization_latencies[rate] = sum(finalization_latencies[rate])/len(finalization_latencies[rate])\n",
    "    \n",
    "print(\"Average Finalization Latency:\", avg_finalization_latencies)\n",
    "\n",
    "avg_throughput = {}\n",
    "for rate in throughputs:\n",
    "    avg_throughput[rate] = sum(throughputs[rate])/len(throughputs[rate])\n",
    "    \n",
    "print(\"Average Throughput Latency:\", avg_throughput)\n",
    "\n",
    "avg_unique_throughput = {}\n",
    "for rate in throughputs_unique:\n",
    "    avg_unique_throughput[rate] = sum(throughputs_unique[rate])/len(throughputs_unique[rate])\n",
    "    \n",
    "print(\"Average Unique Throughput Latency:\", avg_unique_throughput)"
   ]
  },
  {
   "cell_type": "markdown",
   "metadata": {},
   "source": [
    "### Extract Finalization Depth and Delta for Blocks"
   ]
  },
  {
   "cell_type": "code",
   "execution_count": 5,
   "metadata": {},
   "outputs": [
    {
     "name": "stdout",
     "output_type": "stream",
     "text": [
      "1.5833333333333335\n",
      "2\n"
     ]
    }
   ],
   "source": [
    "import csv\n",
    "with open('logs/stats.csv', newline='') as csvfile:\n",
    "    reader = csv.reader(csvfile, delimiter=',')\n",
    "    for row in reader:\n",
    "        if row[0]=='Finalization depth':\n",
    "            k = int(row[1])\n",
    "        elif row[0]=='Average network latency for blocks (sec)':\n",
    "            delta = float(row[1])\n",
    "print(delta)\n",
    "print(k)\n"
   ]
  },
  {
   "cell_type": "code",
   "execution_count": 6,
   "metadata": {},
   "outputs": [],
   "source": [
    "bitcoin_ng_data = {}\n",
    "bitcoin_ng_data['throughputs'] = throughputs\n",
    "bitcoin_ng_data['throughputs_unique'] = throughputs_unique\n",
    "bitcoin_ng_data['main_chain_arrival_latencies'] = main_chain_arrival_latencies\n",
    "bitcoin_ng_data['finalization_latencies'] = finalization_latencies\n",
    "bitcoin_ng_data['k'] = k\n",
    "bitcoin_ng_data['delta'] = delta\n",
    "\n",
    "pkl.dump(bitcoin_ng_data, open('longest-chain-data.pkl', 'wb'))"
   ]
  },
  {
   "cell_type": "code",
   "execution_count": 7,
   "metadata": {},
   "outputs": [],
   "source": [
    "# bitcoin_ng_data = pkl.load( open( \"longest-chain-data-final.pkl\", \"rb\" ) )\n",
    "# throughputs = bitcoin_ng_data['throughputs']\n",
    "# throughputs_unique = bitcoin_ng_data['throughputs_unique']\n",
    "# main_chain_arrival_latencies = bitcoin_ng_data['main_chain_arrival_latencies']\n",
    "# finalization_latencies = bitcoin_ng_data['finalization_latencies']\n",
    "# k = bitcoin_ng_data['k']\n",
    "# delta = bitcoin_ng_data['delta']\n",
    "# max_block_size = 50"
   ]
  },
  {
   "cell_type": "markdown",
   "metadata": {},
   "source": [
    "### Plotting the results"
   ]
  },
  {
   "cell_type": "code",
   "execution_count": 24,
   "metadata": {},
   "outputs": [
    {
     "data": {
      "image/png": "[encoded data removed]",
      "text/plain": [
       "<Figure size 432x288 with 1 Axes>"
      ]
     },
     "metadata": {
      "needs_background": "light"
     },
     "output_type": "display_data"
    }
   ],
   "source": [
    "import matplotlib.pylab as plt\n",
    "x = avg_main_chain_latencies.keys()\n",
    "y1 = avg_main_chain_latencies.values()\n",
    "expected_y1 = (delta+1.0/proposal_rates)\n",
    "y2 = avg_finalization_latencies.values()\n",
    "expected_y2 = k*(delta+1.0/proposal_rates)\n",
    "\n",
    "y3 = avg_unique_throughput.values()\n",
    "T = list(map(lambda x: min(x, max_block_size),  TX_rate/proposal_rates)) # transaction per block, 1 Tx per second / x blocks / sec = tx / block\n",
    "expected_y3 = proposal_rates*T/(1+proposal_rates*delta)\n",
    "\n",
    "plt.xlabel('Block Proposal Rate (blocks/sec)')\n",
    "plt.ylabel('Main Chain Arrival Latency (sec)')\n",
    "plt.title(f'Longest Chain\\nMain Chain Arrival Latency vs. Proposal Rate (k={k}, delta={delta})')\n",
    "plt.grid(True)\n",
    "\n",
    "plt.plot(x, y1, 'o-', label='observed rate')\n",
    "plt.plot(x, expected_y1, 'o--', label='expected rate')\n",
    "plt.legend()\n",
    "plt.show()"
   ]
  },
  {
   "cell_type": "code",
   "execution_count": 25,
   "metadata": {},
   "outputs": [
    {
     "data": {
      "image/png": "[encoded data removed]",
      "text/plain": [
       "<Figure size 432x288 with 1 Axes>"
      ]
     },
     "metadata": {
      "needs_background": "light"
     },
     "output_type": "display_data"
    }
   ],
   "source": [
    "plt.xlabel('Block Proposal Rate (blocks/sec)')\n",
    "plt.ylabel('Finalization Latency (sec)')\n",
    "plt.title(f'Longest Chain\\nFinalization Latency vs. Proposal Rate (k={k}, delta={delta})')\n",
    "plt.grid(True)\n",
    "\n",
    "plt.plot(x, y2, 'o-', label='observed rate')\n",
    "plt.plot(x, expected_y2, 'o--', label='expected rate')\n",
    "plt.legend()\n",
    "plt.show()"
   ]
  },
  {
   "cell_type": "code",
   "execution_count": 26,
   "metadata": {},
   "outputs": [
    {
     "data": {
      "image/png": "[encoded data removed]",
      "text/plain": [
       "<Figure size 432x288 with 1 Axes>"
      ]
     },
     "metadata": {
      "needs_background": "light"
     },
     "output_type": "display_data"
    }
   ],
   "source": [
    "plt.xlabel('Block Proposal Rate (blocks/sec)')\n",
    "plt.ylabel('TX Throughput (Transaction/sec)')\n",
    "plt.title(f'Longest Chain\\nThroughput vs. Proposal Rate (k={k}, delta={delta})')\n",
    "plt.grid(True)\n",
    "\n",
    "\n",
    "plt.plot(x, y3, 'o-', label='observed rate')\n",
    "plt.plot(x, expected_y3, 'o--', label='expected rate')\n",
    "plt.legend()\n",
    "plt.ylim([0, TX_rate])\n",
    "plt.show()"
   ]
  },
  {
   "cell_type": "code",
   "execution_count": null,
   "metadata": {},
   "outputs": [],
   "source": []
  },
  {
   "cell_type": "code",
   "execution_count": null,
   "metadata": {},
   "outputs": [],
   "source": []
  },
  {
   "cell_type": "code",
   "execution_count": null,
   "metadata": {},
   "outputs": [],
   "source": []
  }
 ],
 "metadata": {
  "kernelspec": {
   "display_name": "Python 3",
   "language": "python",
   "name": "python3"
  },
  "language_info": {
   "codemirror_mode": {
    "name": "ipython",
    "version": 3
   },
   "file_extension": ".py",
   "mimetype": "text/x-python",
   "name": "python",
   "nbconvert_exporter": "python",
   "pygments_lexer": "ipython3",
   "version": "3.6.9"
  }
 },
 "nbformat": 4,
 "nbformat_minor": 2
}
